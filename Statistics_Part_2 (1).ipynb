{
  "nbformat": 4,
  "nbformat_minor": 0,
  "metadata": {
    "colab": {
      "provenance": [],
      "collapsed_sections": [
        "t9cwg5JLYxIY"
      ]
    },
    "kernelspec": {
      "name": "python3",
      "display_name": "Python 3"
    },
    "language_info": {
      "name": "python"
    }
  },
  "cells": [
    {
      "cell_type": "markdown",
      "source": [
        "# **Statistics Part 2**"
      ],
      "metadata": {
        "id": "Vo1TlNRH4DQo"
      }
    },
    {
      "cell_type": "markdown",
      "source": [
        "### 1. What is hypothesis testing in statistics ?"
      ],
      "metadata": {
        "id": "aSQyTnNA4YUm"
      }
    },
    {
      "cell_type": "markdown",
      "source": [
        "Hypothesis testing is a way to check if a claim about a population is likely true using sample data. We start with a default assumption (called the null hypothesis) and use statistical tests to see if there's enough evidence to reject it in favor of an alternative idea."
      ],
      "metadata": {
        "id": "j6-UU4Hb56AQ"
      }
    },
    {
      "cell_type": "markdown",
      "source": [
        "### 2. What is the null hypothesis, and how does it differ from the alternative hypothesis?"
      ],
      "metadata": {
        "id": "OQ4uj_Oz58MP"
      }
    },
    {
      "cell_type": "markdown",
      "source": [
        "The null hypothesis (H₀) is the default assumption that there's no effect or no difference. The alternative hypothesis (H₁) is what you want to prove — it suggests there is an effect or a difference.\n",
        "\n",
        "Example:\n",
        "H₀: A coin is fair (50% heads)\n",
        "H₁: The coin is not fair (not 50% heads)\n",
        "\n",
        "We test the data to decide whether to keep H₀ or support H₁."
      ],
      "metadata": {
        "id": "o-fqtg7N6mPj"
      }
    },
    {
      "cell_type": "markdown",
      "source": [
        "### 3. What is the significance level in hypothesis testing, and why is it important?"
      ],
      "metadata": {
        "id": "a63PCm2G6vEJ"
      }
    },
    {
      "cell_type": "markdown",
      "source": [
        "The significance level (α) is the cutoff point to decide if a result is statistically significant. It's usually set at 0.05 (5%), meaning you accept a 5% chance of wrongly rejecting the null hypothesis.\n",
        "\n",
        "It’s important because it controls how much risk of error you’re willing to take when making a conclusion from your data."
      ],
      "metadata": {
        "id": "0Q13VUJe6885"
      }
    },
    {
      "cell_type": "markdown",
      "source": [
        "## 4. What does a P-value represent in hypothesis testing?"
      ],
      "metadata": {
        "id": "4FOSNJ607CGC"
      }
    },
    {
      "cell_type": "markdown",
      "source": [
        "The p-value tells you how likely your data is if the null hypothesis is true. A small p-value means the result is unlikely under the null."
      ],
      "metadata": {
        "id": "zFGnzggk9-qC"
      }
    },
    {
      "cell_type": "markdown",
      "source": [
        "## 5. How do you interpret the P-value in hypothesis testing?"
      ],
      "metadata": {
        "id": "tIiPwHWC-FJS"
      }
    },
    {
      "cell_type": "markdown",
      "source": [
        "If the p-value is less than α (like 0.05), we reject the null. If it’s larger, we don’t have enough evidence to reject it."
      ],
      "metadata": {
        "id": "idEFD7CR-I-Z"
      }
    },
    {
      "cell_type": "markdown",
      "source": [
        "## 6. What are Type 1 and Type 2 errors in hypothesis testing?"
      ],
      "metadata": {
        "id": "in8Wbq4U-QIT"
      }
    },
    {
      "cell_type": "markdown",
      "source": [
        "Type 1 error: Rejecting a true null (false alarm).\n",
        "\n",
        "Type 2 error: Not rejecting a false null (missed detection)."
      ],
      "metadata": {
        "id": "j-D56xmH-U1l"
      }
    },
    {
      "cell_type": "markdown",
      "source": [
        "## 7. What is the difference between a one-tailed and a two-tailed test?"
      ],
      "metadata": {
        "id": "UOrO7y4C-YeM"
      }
    },
    {
      "cell_type": "markdown",
      "source": [
        "One-tailed checks for an effect in one direction.\n",
        "\n",
        "Two-tailed checks for any difference, either higher or lower."
      ],
      "metadata": {
        "id": "43_q_K6U-dLf"
      }
    },
    {
      "cell_type": "markdown",
      "source": [
        "## 8. What is the Z-test, and when is it used?"
      ],
      "metadata": {
        "id": "ZfiEykjL-g_i"
      }
    },
    {
      "cell_type": "markdown",
      "source": [
        "A Z-test checks if a sample mean differs from a known population mean, used when the sample size is big or population std dev is known."
      ],
      "metadata": {
        "id": "dBJgpX4d-kYg"
      }
    },
    {
      "cell_type": "markdown",
      "source": [
        "## 9. How do you calculate the Z-score, and what does it represent?"
      ],
      "metadata": {
        "id": "bGK91Opn-n8t"
      }
    },
    {
      "cell_type": "markdown",
      "source": [
        "Z = (X - μ) / σ\n",
        "It tells how many standard deviations a value is from the mean."
      ],
      "metadata": {
        "id": "obMz7PTp-s07"
      }
    },
    {
      "cell_type": "markdown",
      "source": [
        "## 10. What is the T-distribution, and when is it used?"
      ],
      "metadata": {
        "id": "_B50PGt--vvv"
      }
    },
    {
      "cell_type": "markdown",
      "source": [
        "T-distribution is used when:\n",
        "\n",
        "Sample size is small (n < 30)\n",
        "\n",
        "Population standard deviation is unknown\n",
        "\n",
        "It’s similar to the normal distribution but has heavier tails."
      ],
      "metadata": {
        "id": "1OYkm19H-46L"
      }
    },
    {
      "cell_type": "markdown",
      "source": [
        "## 11. What is the difference between a Z-test and a T-test?"
      ],
      "metadata": {
        "id": "pRAxqwq2HIq7"
      }
    },
    {
      "cell_type": "markdown",
      "source": [
        "Z-test: Known population standard deviation, large samples.\n",
        "\n",
        "T-test: Unknown population standard deviation, small samples."
      ],
      "metadata": {
        "id": "qBNxRHBMHRDa"
      }
    },
    {
      "cell_type": "markdown",
      "source": [
        "## 12.What is the T-test, and how is it used in hypothesis testing?"
      ],
      "metadata": {
        "id": "MVN84PSQHXPK"
      }
    },
    {
      "cell_type": "markdown",
      "source": [
        "A T-test checks if there's a significant difference between means (e.g., two groups). It’s commonly used in experiments and A/B testing."
      ],
      "metadata": {
        "id": "ouSfkkJ5Hh8s"
      }
    },
    {
      "cell_type": "markdown",
      "source": [
        "## 13. What is the relationship between Z-test and T-test in hypothesis testing?"
      ],
      "metadata": {
        "id": "RjZCiG6qHmta"
      }
    },
    {
      "cell_type": "markdown",
      "source": [
        "Both are used for comparing means, but:\n",
        "\n",
        "Use Z when σ is known.\n",
        "\n",
        "Use T when σ is unknown or n is small.\n",
        "\n",
        "They’re conceptually similar."
      ],
      "metadata": {
        "id": "xk7xRNzIHr4G"
      }
    },
    {
      "cell_type": "markdown",
      "source": [
        "### 14. What is a confidence interval, and how is it used to interpret statistical results?"
      ],
      "metadata": {
        "id": "R3vdnVpOHwiy"
      }
    },
    {
      "cell_type": "markdown",
      "source": [
        "A confidence interval gives a range of values within which we believe the true parameter lies, with a certain level of confidence (like 95%)."
      ],
      "metadata": {
        "id": "mohLonmmH1YH"
      }
    },
    {
      "cell_type": "markdown",
      "source": [
        "## 15. What is the margin of error, and how does it affect the confidence interval?"
      ],
      "metadata": {
        "id": "NRKPBGP9H5ls"
      }
    },
    {
      "cell_type": "markdown",
      "source": [
        "Margin of error is how much the estimate might differ from the true value. Larger margins make wider intervals. Smaller margins are more precise."
      ],
      "metadata": {
        "id": "038xzwgUKEHu"
      }
    },
    {
      "cell_type": "markdown",
      "source": [
        "## 16. How is Bayes' Theorem used in statistics, and what is its significance?"
      ],
      "metadata": {
        "id": "_KcudXxvKHk4"
      }
    },
    {
      "cell_type": "markdown",
      "source": [
        "Bayes' Theorem updates probabilities based on new evidence. It’s key in areas like spam filtering, medical diagnosis, and machine learning."
      ],
      "metadata": {
        "id": "jdIW6oS5KO5s"
      }
    },
    {
      "cell_type": "markdown",
      "source": [
        "## 17. What is the Chi-square distribution, and when is it used?"
      ],
      "metadata": {
        "id": "BscxyoJLKS2E"
      }
    },
    {
      "cell_type": "markdown",
      "source": [
        "Chi square distributions are used to identify the probability of a value occurring,It’s used to test relationships between categorical variables. Common in goodness-of-fit and independence tests."
      ],
      "metadata": {
        "id": "9JyB-43PKoNW"
      }
    },
    {
      "cell_type": "markdown",
      "source": [
        "## 18. What is the Chi-square goodness of fit test, and how is it applied?"
      ],
      "metadata": {
        "id": "x11naaMcKx3A"
      }
    },
    {
      "cell_type": "markdown",
      "source": [
        "This test checks if observed data fits a theoretical distribution. If observed ≠ expected, we may reject the null hypothesis.\n",
        "\n",
        "Here's a breakdown of how it works:\n",
        "1. Hypothesis:\n",
        "You propose a theoretical distribution (e.g., a normal distribution, a binomial distribution, etc.) for your data.\n",
        "2. Data Collection:\n",
        "You collect a sample from the population you're interested in.\n",
        "3. Expected Frequencies:\n",
        "You calculate the expected frequencies for each category (or bin) based on your hypothesized distribution.\n",
        "4. Observed Frequencies:\n",
        "You count the actual frequencies (observed counts) for each category in your sample.\n",
        "5. Chi-Square Statistic:\n",
        "You calculate the chi-square test statistic, which measures the difference between the observed and expected frequencies.\n",
        "6. Degrees of Freedom:\n",
        "You determine the degrees of freedom (related to the number of categories).\n",
        "7. P-value:\n",
        "You compare the chi-square statistic to a critical value from the chi-square distribution, using the degrees of freedom to find a p-value.\n",
        "8. Conclusion:\n",
        "Based on the p-value, you decide whether to reject the null hypothesis (that the sample came from the hypothesized distribution)."
      ],
      "metadata": {
        "id": "majLMmUMK4YU"
      }
    },
    {
      "cell_type": "markdown",
      "source": [
        "## 19. What is the F-distribution, and when is it used in hypothesis testing?"
      ],
      "metadata": {
        "id": "i0smWDUGLdGk"
      }
    },
    {
      "cell_type": "markdown",
      "source": [
        "The F-distribution is a continuous probability distribution used in hypothesis testing, particularly when comparing variances between two or more groups. It's commonly used in the F-test, which is a statistical test to determine if there are significant differences in the means of two or more groups. The F-distribution helps determine the probability of observing a given F-statistic under the assumption that there are no real differences between the groups being compared."
      ],
      "metadata": {
        "id": "JnNRE5ykLwDR"
      }
    },
    {
      "cell_type": "markdown",
      "source": [
        "## 20. What is an ANOVA test, and what are its assumptions?"
      ],
      "metadata": {
        "id": "4_pzG36aMI2o"
      }
    },
    {
      "cell_type": "markdown",
      "source": [
        "ANOVA (Analysis of Variance) checks if the means of 3+ groups are significantly different.\n",
        "Assumptions:\n",
        "\n",
        "Normal distribution\n",
        "\n",
        "Equal variances\n",
        "\n",
        "Independent samples"
      ],
      "metadata": {
        "id": "UYNvyTq4MJ5h"
      }
    },
    {
      "cell_type": "markdown",
      "source": [
        "## 21. What are the different types of ANOVA tests?"
      ],
      "metadata": {
        "id": "ksWur-CeMOSw"
      }
    },
    {
      "cell_type": "markdown",
      "source": [
        "One-way ANOVA: One independent variable.\n",
        "\n",
        "Two-way ANOVA: Two independent variables.\n",
        "\n",
        "Repeated measures ANOVA: Same subjects over time."
      ],
      "metadata": {
        "id": "oUPBEBzQMTBG"
      }
    },
    {
      "cell_type": "markdown",
      "source": [
        "## 22. What is the F-test, and how does it relate to hypothesis testing?"
      ],
      "metadata": {
        "id": "JGhvzYyKMZOq"
      }
    },
    {
      "cell_type": "markdown",
      "source": [
        "F-test compares two variances or multiple group means (in ANOVA). It checks if group differences are significant.\n",
        "\n",
        "Hypothesis Testing with the F-test:\n",
        "\n",
        "Null Hypothesis:\n",
        "\n",
        "The F-test begins with a null hypothesis, which often assumes no significant difference between the groups being compared (e.g., no difference in means or variances).\n",
        "\n",
        "Alternative Hypothesis:\n",
        "\n",
        "The alternative hypothesis is the opposite of the null hypothesis, suggesting that there is a significant difference between the groups.\n",
        "\n",
        "F-statistic and Critical Value:\n",
        "\n",
        "The F-test calculates an F-statistic, which is then compared to a critical value based on the chosen significance level (alpha, typically 0.05) and degrees of freedom.\n",
        "\n",
        "Decision:\n",
        "\n",
        "If the calculated F-statistic exceeds the critical value, the null hypothesis is rejected, indicating that there is a statistically significant difference between the groups.\n",
        "\n",
        "P-value:\n",
        "\n",
        "The p-value associated with the F-statistic can also be used to make a decision. If the p-value is less than or equal to alpha, the null hypothesis is rejected.\n",
        "\n",
        " Example:\n",
        "\n",
        "Imagine comparing the effectiveness of three different teaching methods on student test scores.\n",
        "The null hypothesis would be that all three teaching methods have the same effect on student scores.\n",
        "The F-test would be used to determine if there's a statistically significant difference in the means of the test scores for the three groups (i.e., if one or more methods is significantly more effective)."
      ],
      "metadata": {
        "id": "IwiAW8tXMfB7"
      }
    },
    {
      "cell_type": "markdown",
      "source": [
        "# **Practical Part - 1**"
      ],
      "metadata": {
        "id": "i0U3mbJ_NRd_"
      }
    },
    {
      "cell_type": "markdown",
      "source": [
        "### 1.Write a Python program to generate a random variable and display its value."
      ],
      "metadata": {
        "id": "NQxwEkkDPltz"
      }
    },
    {
      "cell_type": "code",
      "source": [
        "import numpy as np\n",
        "\n",
        "# Generate a single random value between 0 and 1\n",
        "random_value = np.random.rand()\n",
        "print(\"Q1. Random variable:\", random_value)\n"
      ],
      "metadata": {
        "colab": {
          "base_uri": "https://localhost:8080/"
        },
        "id": "wdqOxmmOUQGD",
        "outputId": "a67f9cc0-72ec-49e0-f454-b5898a839061"
      },
      "execution_count": 9,
      "outputs": [
        {
          "output_type": "stream",
          "name": "stdout",
          "text": [
            "Q1. Random variable: 0.11766480853133399\n"
          ]
        }
      ]
    },
    {
      "cell_type": "markdown",
      "source": [
        "### 2.Generate a discrete uniform distribution using Python and plot the probability mass function (PMF)."
      ],
      "metadata": {
        "id": "DMOTbvc0P9ei"
      }
    },
    {
      "cell_type": "code",
      "source": [
        "import numpy as np\n",
        "import matplotlib.pyplot as plt\n",
        "\n",
        "# Values from 1 to 6 (like a fair die)\n",
        "x = np.arange(1, 7)\n",
        "pmf = np.ones_like(x) / len(x)\n",
        "\n",
        "# Plot PMF\n",
        "plt.figure()\n",
        "plt.stem(x, pmf, basefmt=\" \", linefmt=\"b-\", markerfmt=\"bo\")  # Avoid deprecated warnings\n",
        "plt.title(\"Q2. PMF of Discrete Uniform Distribution (1 to 6)\")\n",
        "plt.xlabel(\"Value\")\n",
        "plt.ylabel(\"Probability\")\n",
        "plt.ylim(0, 1)\n",
        "plt.grid(True)\n",
        "plt.show()\n"
      ],
      "metadata": {
        "colab": {
          "base_uri": "https://localhost:8080/",
          "height": 472
        },
        "id": "VioGOWEiUiRU",
        "outputId": "f13a1691-eb1f-4d00-8312-ca4968d07eb0"
      },
      "execution_count": 10,
      "outputs": [
        {
          "output_type": "display_data",
          "data": {
            "text/plain": [
              "<Figure size 640x480 with 1 Axes>"
            ],
            "image/png": "[encoded data removed]"
          },
          "metadata": {}
        }
      ]
    },
    {
      "cell_type": "markdown",
      "source": [
        "## 3. Write a Python function to calculate the probability distribution function (PDF) of a Bernoulli distribution."
      ],
      "metadata": {
        "id": "mAAu1ISjQI55"
      }
    },
    {
      "cell_type": "code",
      "source": [
        "from scipy.stats import bernoulli\n",
        "import matplotlib.pyplot as plt\n",
        "\n",
        "# Bernoulli distribution with probability p\n",
        "p = 0.6\n",
        "x = [0, 1]\n",
        "pdf = bernoulli.pmf(x, p)\n",
        "\n",
        "# Plot\n",
        "plt.figure()\n",
        "plt.stem(x, pdf, basefmt=\" \", linefmt=\"g-\", markerfmt=\"go\")\n",
        "plt.title(\"Q3. PDF of Bernoulli Distribution (p = 0.6)\")\n",
        "plt.xlabel(\"x\")\n",
        "plt.ylabel(\"Probability\")\n",
        "plt.ylim(0, 1)\n",
        "plt.grid(True)\n",
        "plt.show()\n"
      ],
      "metadata": {
        "id": "zeWml6HuUnGJ"
      },
      "execution_count": null,
      "outputs": []
    },
    {
      "cell_type": "markdown",
      "source": [
        "## 4. Write a Python script to simulate a binomial distribution with n=10 and p=0.5, then plot its histogram."
      ],
      "metadata": {
        "id": "zYQkMLpPUq6v"
      }
    },
    {
      "cell_type": "code",
      "source": [
        "from scipy.stats import binom\n",
        "import matplotlib.pyplot as plt\n",
        "import numpy as np\n",
        "\n",
        "# Parameters\n",
        "n = 10\n",
        "p = 0.5\n",
        "data = binom.rvs(n=n, p=p, size=1000)\n",
        "\n",
        "# Plot histogram\n",
        "plt.figure()\n",
        "plt.hist(data, bins=np.arange(n+2)-0.5, edgecolor='black', color='skyblue')\n",
        "plt.title(\"Q4. Binomial Distribution (n=10, p=0.5)\")\n",
        "plt.xlabel(\"Number of Successes\")\n",
        "plt.ylabel(\"Frequency\")\n",
        "plt.grid(True)\n",
        "plt.show()\n"
      ],
      "metadata": {
        "id": "1K76uiX1U5_O"
      },
      "execution_count": null,
      "outputs": []
    },
    {
      "cell_type": "markdown",
      "source": [
        "## 5. Create a Poisson distribution and visualize it using Python."
      ],
      "metadata": {
        "id": "lVADzzN4U-lx"
      }
    },
    {
      "cell_type": "code",
      "source": [
        "from scipy.stats import poisson\n",
        "import numpy as np\n",
        "import matplotlib.pyplot as plt\n",
        "\n",
        "# Parameters\n",
        "mu = 3\n",
        "data = poisson.rvs(mu, size=1000)\n",
        "\n",
        "# Plot\n",
        "plt.figure()\n",
        "plt.hist(data, bins=np.arange(0, 10) - 0.5, color='orange', edgecolor='black')\n",
        "plt.title(\"Q5. Poisson Distribution (λ = 3)\")\n",
        "plt.xlabel(\"Events\")\n",
        "plt.ylabel(\"Frequency\")\n",
        "plt.grid(True)\n",
        "plt.show()\n"
      ],
      "metadata": {
        "id": "QXdqAivtVGMS"
      },
      "execution_count": null,
      "outputs": []
    },
    {
      "cell_type": "markdown",
      "source": [
        "## 6.Write a Python program to calculate and plot the cumulative distribution function (CDF) of a discrete uniform distribution."
      ],
      "metadata": {
        "id": "jgFUhZobVNjt"
      }
    },
    {
      "cell_type": "code",
      "source": [
        "import numpy as np\n",
        "import matplotlib.pyplot as plt\n",
        "\n",
        "x = np.arange(1, 7)\n",
        "cdf = np.cumsum(np.ones_like(x)) / len(x)\n",
        "\n",
        "plt.figure()\n",
        "plt.step(x, cdf, where='post')\n",
        "plt.title(\"Q6. CDF of Discrete Uniform Distribution (1 to 6)\")\n",
        "plt.xlabel(\"Value\")\n",
        "plt.ylabel(\"Cumulative Probability\")\n",
        "plt.ylim(0, 1.1)\n",
        "plt.grid(True)\n",
        "plt.show()\n"
      ],
      "metadata": {
        "id": "ubDEVsb9VTor"
      },
      "execution_count": null,
      "outputs": []
    },
    {
      "cell_type": "markdown",
      "source": [
        "## 7.Generate a continuous uniform distribution using NumPy and visualize it."
      ],
      "metadata": {
        "id": "ajmKBHHtVfJR"
      }
    },
    {
      "cell_type": "code",
      "source": [
        "import numpy as np\n",
        "import matplotlib.pyplot as plt\n",
        "import seaborn as sns\n",
        "\n",
        "# Generate data\n",
        "data = np.random.uniform(low=0, high=1, size=1000)\n",
        "\n",
        "# Plot\n",
        "plt.figure()\n",
        "sns.histplot(data, bins=30, kde=True, color='teal')\n",
        "plt.title(\"Q7. Continuous Uniform Distribution\")\n",
        "plt.xlabel(\"Value\")\n",
        "plt.ylabel(\"Density\")\n",
        "plt.grid(True)\n",
        "plt.show()\n"
      ],
      "metadata": {
        "id": "Hje0ChR2Vnkn"
      },
      "execution_count": null,
      "outputs": []
    },
    {
      "cell_type": "markdown",
      "source": [
        "## 8.Simulate data from a normal distribution and plot its histogram."
      ],
      "metadata": {
        "id": "Oi0GKjexVo34"
      }
    },
    {
      "cell_type": "code",
      "source": [
        "import numpy as np\n",
        "import matplotlib.pyplot as plt\n",
        "import seaborn as sns\n",
        "\n",
        "data = np.random.normal(loc=0, scale=1, size=1000)\n",
        "\n",
        "plt.figure()\n",
        "sns.histplot(data, bins=30, kde=True, color='purple')\n",
        "plt.title(\"Q8. Normal Distribution Histogram\")\n",
        "plt.xlabel(\"Value\")\n",
        "plt.ylabel(\"Frequency\")\n",
        "plt.grid(True)\n",
        "plt.show()\n"
      ],
      "metadata": {
        "id": "qFGO4qCUVxld"
      },
      "execution_count": null,
      "outputs": []
    },
    {
      "cell_type": "markdown",
      "source": [
        "## 9.Write a Python function to calculate Z-scores from a dataset and plot them."
      ],
      "metadata": {
        "id": "nqGf9mq8V14P"
      }
    },
    {
      "cell_type": "code",
      "source": [
        "from scipy.stats import zscore\n",
        "import matplotlib.pyplot as plt\n",
        "import numpy as np\n",
        "\n",
        "# Sample normal data\n",
        "data = np.random.normal(100, 15, 100)\n",
        "z_scores = zscore(data)\n",
        "\n",
        "plt.figure()\n",
        "plt.plot(z_scores, marker='o', linestyle='', color='blue', alpha=0.6)\n",
        "plt.axhline(y=0, color='red', linestyle='--')\n",
        "plt.title(\"Q9. Z-scores of Dataset\")\n",
        "plt.xlabel(\"Index\")\n",
        "plt.ylabel(\"Z-score\")\n",
        "plt.grid(True)\n",
        "plt.show()\n"
      ],
      "metadata": {
        "id": "t71ig1iQV9hD"
      },
      "execution_count": null,
      "outputs": []
    },
    {
      "cell_type": "markdown",
      "source": [
        "## 10. Implement the Central Limit Theorem (CLT) using Python for a non-normal distribution."
      ],
      "metadata": {
        "id": "QMkie_WtWB0J"
      }
    },
    {
      "cell_type": "code",
      "source": [
        "import numpy as np\n",
        "import seaborn as sns\n",
        "import matplotlib.pyplot as plt\n",
        "\n",
        "# Non-normal population (exponential)\n",
        "population = np.random.exponential(scale=2, size=10000)\n",
        "\n",
        "# Sampling distribution of sample means\n",
        "sample_means = [np.mean(np.random.choice(population, size=30)) for _ in range(1000)]\n",
        "\n",
        "# Plot\n",
        "plt.figure()\n",
        "sns.histplot(sample_means, bins=30, kde=True, color='green')\n",
        "plt.title(\"Q10. CLT Using Non-Normal (Exponential) Distribution\")\n",
        "plt.xlabel(\"Sample Mean\")\n",
        "plt.ylabel(\"Frequency\")\n",
        "plt.grid(True)\n",
        "plt.show()\n"
      ],
      "metadata": {
        "id": "3IMvi2vQWT67"
      },
      "execution_count": null,
      "outputs": []
    },
    {
      "cell_type": "markdown",
      "source": [
        "## 11.Simulate multiple samples from a normal distribution and verify the Central Limit Theorem."
      ],
      "metadata": {
        "id": "1HxYGaqiWZS6"
      }
    },
    {
      "cell_type": "code",
      "source": [
        "import numpy as np\n",
        "import seaborn as sns\n",
        "import matplotlib.pyplot as plt\n",
        "\n",
        "# Simulate multiple sample means\n",
        "means = [np.mean(np.random.normal(loc=50, scale=10, size=30)) for _ in range(1000)]\n",
        "\n",
        "# Plot distribution of sample means\n",
        "plt.figure()\n",
        "sns.histplot(means, kde=True, bins=30, color='goldenrod')\n",
        "plt.title(\"Q11. Central Limit Theorem - Sample Means\")\n",
        "plt.xlabel(\"Sample Mean\")\n",
        "plt.ylabel(\"Frequency\")\n",
        "plt.grid(True)\n",
        "plt.show()\n"
      ],
      "metadata": {
        "id": "-TmTmILiWokm"
      },
      "execution_count": null,
      "outputs": []
    },
    {
      "cell_type": "markdown",
      "source": [
        "## 12.Write a Python function to calculate and plot the standard normal distribution (mean = 0, std = 1)."
      ],
      "metadata": {
        "id": "91kn-ejGWq1T"
      }
    },
    {
      "cell_type": "code",
      "source": [
        "from scipy.stats import norm\n",
        "import numpy as np\n",
        "import matplotlib.pyplot as plt\n",
        "\n",
        "x = np.linspace(-4, 4, 1000)\n",
        "y = norm.pdf(x, loc=0, scale=1)\n",
        "\n",
        "plt.figure()\n",
        "plt.plot(x, y, color='black')\n",
        "plt.title(\"Q12. Standard Normal Distribution PDF\")\n",
        "plt.xlabel(\"x\")\n",
        "plt.ylabel(\"Density\")\n",
        "plt.grid(True)\n",
        "plt.show()\n"
      ],
      "metadata": {
        "colab": {
          "base_uri": "https://localhost:8080/",
          "height": 472
        },
        "id": "6EvTYpqpWx6v",
        "outputId": "7ef9785e-bad1-44f7-97d2-80e0470d4598"
      },
      "execution_count": 11,
      "outputs": [
        {
          "output_type": "display_data",
          "data": {
            "text/plain": [
              "<Figure size 640x480 with 1 Axes>"
            ],
            "image/png": "[encoded data removed]"
          },
          "metadata": {}
        }
      ]
    },
    {
      "cell_type": "markdown",
      "source": [
        "## 13.Generate random variables and calculate their corresponding probabilities using the binomial distribution."
      ],
      "metadata": {
        "id": "lfltSFZhW5Yg"
      }
    },
    {
      "cell_type": "code",
      "source": [
        "from scipy.stats import binom\n",
        "import matplotlib.pyplot as plt\n",
        "import numpy as np\n",
        "\n",
        "n, p = 10, 0.5\n",
        "x = np.arange(0, n+1)\n",
        "pmf = binom.pmf(x, n, p)\n",
        "\n",
        "plt.figure()\n",
        "plt.bar(x, pmf, color='coral')\n",
        "plt.title(\"Q13. Binomial PMF (n=10, p=0.5)\")\n",
        "plt.xlabel(\"Number of Successes\")\n",
        "plt.ylabel(\"Probability\")\n",
        "plt.grid(True)\n",
        "plt.show()\n"
      ],
      "metadata": {
        "id": "F1V-OeVSXBtF"
      },
      "execution_count": null,
      "outputs": []
    },
    {
      "cell_type": "markdown",
      "source": [
        "## 14.Write a Python program to calculate the Z-score for a given data point and compare it to a standard normal distribution."
      ],
      "metadata": {
        "id": "Y_tQpF2jXF7J"
      }
    },
    {
      "cell_type": "code",
      "source": [
        "import numpy as np\n",
        "\n",
        "data = np.random.normal(100, 15, 100)\n",
        "point = 120\n",
        "z = (point - np.mean(data)) / np.std(data)\n",
        "print(\"Q14. Z-score of\", point, \"is:\", round(z, 2))\n"
      ],
      "metadata": {
        "id": "5LobhCuFXMOG"
      },
      "execution_count": null,
      "outputs": []
    },
    {
      "cell_type": "markdown",
      "source": [
        "## 15.Implement hypothesis testing using Z-statistics for a sample dataset."
      ],
      "metadata": {
        "id": "onSnzBc0XO_T"
      }
    },
    {
      "cell_type": "code",
      "source": [
        "from scipy.stats import norm\n",
        "\n",
        "sample = np.random.normal(52, 5, 30)\n",
        "pop_mean = 50\n",
        "z_stat = (np.mean(sample) - pop_mean) / (np.std(sample, ddof=1) / np.sqrt(len(sample)))\n",
        "p_val = 2 * (1 - norm.cdf(abs(z_stat)))\n",
        "\n",
        "print(\"Q15. Z-statistic:\", round(z_stat, 2))\n",
        "print(\"Q15. P-value:\", round(p_val, 4))\n"
      ],
      "metadata": {
        "id": "Co9FhGujXVrK"
      },
      "execution_count": null,
      "outputs": []
    },
    {
      "cell_type": "markdown",
      "source": [
        "### 16.Create a confidence interval for a dataset using Python and interpret the result."
      ],
      "metadata": {
        "id": "OsRHgKbWXcof"
      }
    },
    {
      "cell_type": "code",
      "source": [
        "from scipy.stats import sem, t\n",
        "\n",
        "mean = np.mean(sample)\n",
        "ci = t.interval(0.95, df=len(sample)-1, loc=mean, scale=sem(sample))\n",
        "\n",
        "print(\"Q16. 95% Confidence Interval:\", ci)\n"
      ],
      "metadata": {
        "id": "8m-SwM4QXhdo"
      },
      "execution_count": null,
      "outputs": []
    },
    {
      "cell_type": "markdown",
      "source": [
        "## 17.Generate data from a normal distribution, then calculate and interpret the confidence interval for its mean."
      ],
      "metadata": {
        "id": "iCJzXL5zXnP0"
      }
    },
    {
      "cell_type": "code",
      "source": [
        "data = np.random.normal(100, 10, 50)\n",
        "mean = np.mean(data)\n",
        "ci = t.interval(0.95, df=len(data)-1, loc=mean, scale=sem(data))\n",
        "\n",
        "print(\"Q17. 95% CI for Normal Data:\", ci)\n"
      ],
      "metadata": {
        "id": "9FNRxDKWXs6h"
      },
      "execution_count": null,
      "outputs": []
    },
    {
      "cell_type": "markdown",
      "source": [
        "### 18.Write a Python script to calculate and visualize the probability density function (PDF) of a normal distribution."
      ],
      "metadata": {
        "id": "HdhoO0uIXxex"
      }
    },
    {
      "cell_type": "code",
      "source": [
        "x = np.linspace(-4, 4, 1000)\n",
        "y = norm.pdf(x)\n",
        "\n",
        "plt.figure()\n",
        "plt.plot(x, y, color='blue')\n",
        "plt.title(\"Q18. Normal Distribution PDF\")\n",
        "plt.xlabel(\"x\")\n",
        "plt.ylabel(\"Density\")\n",
        "plt.grid(True)\n",
        "plt.show()\n"
      ],
      "metadata": {
        "id": "3R6_Zn8_X3J9"
      },
      "execution_count": null,
      "outputs": []
    },
    {
      "cell_type": "markdown",
      "source": [
        "### 19. Use Python to calculate and interpret the cumulative distribution function (CDF) of a Poisson distribution."
      ],
      "metadata": {
        "id": "LhIfS-dvX7bc"
      }
    },
    {
      "cell_type": "code",
      "source": [
        "from scipy.stats import poisson\n",
        "import numpy as np\n",
        "import matplotlib.pyplot as plt\n",
        "\n",
        "x = np.arange(0, 15)\n",
        "cdf = poisson.cdf(x, mu=4)\n",
        "\n",
        "plt.figure()\n",
        "plt.step(x, cdf, where='post')\n",
        "plt.title(\"Q19. CDF of Poisson Distribution (λ=4)\")\n",
        "plt.xlabel(\"x\")\n",
        "plt.ylabel(\"Cumulative Probability\")\n",
        "plt.grid(True)\n",
        "plt.show()\n"
      ],
      "metadata": {
        "id": "_4Qw1U_gYARR"
      },
      "execution_count": null,
      "outputs": []
    },
    {
      "cell_type": "markdown",
      "source": [
        "### 20. Simulate a random variable using a continuous uniform distribution and calculate its expected value."
      ],
      "metadata": {
        "id": "81wq_HDWYFY4"
      }
    },
    {
      "cell_type": "code",
      "source": [
        "data = np.random.uniform(low=5, high=15, size=1000)\n",
        "expected_value = np.mean(data)\n",
        "print(\"Q20. Expected value of simulated uniform data:\", round(expected_value, 2))\n"
      ],
      "metadata": {
        "id": "lj9m2B3aYJhd"
      },
      "execution_count": null,
      "outputs": []
    },
    {
      "cell_type": "markdown",
      "source": [
        "### 21.Write a Python program to compare the standard deviations of two datasets and visualize the difference."
      ],
      "metadata": {
        "id": "0p9tlzNuYL5X"
      }
    },
    {
      "cell_type": "code",
      "source": [
        "import seaborn as sns\n",
        "\n",
        "data_a = np.random.normal(50, 5, 100)\n",
        "data_b = np.random.normal(50, 10, 100)\n",
        "\n",
        "std_a = np.std(data_a)\n",
        "std_b = np.std(data_b)\n",
        "\n",
        "plt.figure()\n",
        "sns.histplot(data_a, label='Dataset A (std ≈ 5)', kde=True, color='skyblue')\n",
        "sns.histplot(data_b, label='Dataset B (std ≈ 10)', kde=True, color='salmon')\n",
        "plt.title(\"Q21. Compare Standard Deviations\")\n",
        "plt.legend()\n",
        "plt.grid(True)\n",
        "plt.show()\n"
      ],
      "metadata": {
        "id": "OiIEfIyaYQPg"
      },
      "execution_count": null,
      "outputs": []
    },
    {
      "cell_type": "markdown",
      "source": [
        "### 22. Calculate the range and interquartile range (IQR) of a dataset generated from a normal distribution."
      ],
      "metadata": {
        "id": "CYOKXUS0YVw3"
      }
    },
    {
      "cell_type": "code",
      "source": [
        "data = np.random.normal(100, 15, 1000)\n",
        "data_range = np.ptp(data)\n",
        "iqr = np.percentile(data, 75) - np.percentile(data, 25)\n",
        "\n",
        "print(\"Q22. Range:\", round(data_range, 2))\n",
        "print(\"Q22. IQR:\", round(iqr, 2))\n"
      ],
      "metadata": {
        "id": "rjF2-JOSYZrK"
      },
      "execution_count": null,
      "outputs": []
    },
    {
      "cell_type": "markdown",
      "source": [
        "### 23. Implement Z-score normalization on a dataset and visualize its transformation."
      ],
      "metadata": {
        "id": "BCRQ9erqYcBW"
      }
    },
    {
      "cell_type": "code",
      "source": [
        "from scipy.stats import zscore\n",
        "\n",
        "normalized = zscore(data)\n",
        "\n",
        "plt.figure()\n",
        "sns.histplot(normalized, kde=True, color='green')\n",
        "plt.title(\"Q23. Z-score Normalized Data\")\n",
        "plt.grid(True)\n",
        "plt.show()\n"
      ],
      "metadata": {
        "id": "wgks7tb3Yg38"
      },
      "execution_count": null,
      "outputs": []
    },
    {
      "cell_type": "markdown",
      "source": [
        "### 24.Write a Python function to calculate the skewness and kurtosis of a dataset generated from a normal distribution."
      ],
      "metadata": {
        "id": "Pc6ZOep-YlcX"
      }
    },
    {
      "cell_type": "code",
      "source": [
        "from scipy.stats import skew, kurtosis\n",
        "\n",
        "skw = skew(data)\n",
        "krt = kurtosis(data)\n",
        "\n",
        "print(\"Q24. Skewness:\", round(skw, 2))\n",
        "print(\"Q24. Kurtosis:\", round(krt, 2))\n"
      ],
      "metadata": {
        "id": "1P0nEIJXYv0H"
      },
      "execution_count": null,
      "outputs": []
    },
    {
      "cell_type": "markdown",
      "source": [
        "# **Practical Part - 2**"
      ],
      "metadata": {
        "id": "t9cwg5JLYxIY"
      }
    },
    {
      "cell_type": "markdown",
      "source": [
        "### 1.Write a Python program to perform a Z-test for comparing a sample mean to a known population mean and interpret the results."
      ],
      "metadata": {
        "id": "livdNV5hY4Np"
      }
    },
    {
      "cell_type": "code",
      "source": [
        "import numpy as np\n",
        "from scipy import stats\n",
        "\n",
        "# Sample data\n",
        "sample = np.random.normal(loc=52, scale=5, size=30)\n",
        "population_mean = 50\n",
        "\n",
        "# Z-test\n",
        "z_stat = (np.mean(sample) - population_mean) / (np.std(sample, ddof=1) / np.sqrt(len(sample)))\n",
        "p_value = 2 * (1 - stats.norm.cdf(abs(z_stat)))\n",
        "\n",
        "print(\"Q1. Z-test for one sample mean:\")\n",
        "print(\"Z-statistic:\", round(z_stat, 2))\n",
        "print(\"P-value:\", round(p_value, 4))\n"
      ],
      "metadata": {
        "id": "YE4cgAiebZyk"
      },
      "execution_count": null,
      "outputs": []
    },
    {
      "cell_type": "markdown",
      "source": [
        "### 2.Simulate random data to perform hypothesis testing and calculate the corresponding P-value using Python.\n"
      ],
      "metadata": {
        "id": "0o0Mq7Ygbarz"
      }
    },
    {
      "cell_type": "code",
      "source": [
        "# Simulated data\n",
        "data = np.random.normal(loc=100, scale=15, size=50)\n",
        "\n",
        "# One-sample t-test\n",
        "t_stat, p_val = stats.ttest_1samp(data, popmean=105)\n",
        "\n",
        "print(\"\\nQ2. Hypothesis Testing (T-test):\")\n",
        "print(\"T-statistic:\", round(t_stat, 2))\n",
        "print(\"P-value:\", round(p_val, 4))\n"
      ],
      "metadata": {
        "id": "M6uV6wRve5Mf"
      },
      "execution_count": null,
      "outputs": []
    },
    {
      "cell_type": "markdown",
      "source": [
        "### 3.Implement a one-sample Z-test using Python to compare the sample mean with the population mean."
      ],
      "metadata": {
        "id": "9oVohXbJe-jQ"
      }
    },
    {
      "cell_type": "code",
      "source": [
        "# Sample Z-test\n",
        "mean = np.mean(data)\n",
        "std = np.std(data, ddof=1)\n",
        "z = (mean - 105) / (std / np.sqrt(len(data)))\n",
        "p = 2 * (1 - stats.norm.cdf(abs(z)))\n",
        "\n",
        "print(\"\\nQ3. One-sample Z-test:\")\n",
        "print(\"Z-statistic:\", round(z, 2))\n",
        "print(\"P-value:\", round(p, 4))\n"
      ],
      "metadata": {
        "id": "qsaDIGqDfGnK"
      },
      "execution_count": null,
      "outputs": []
    },
    {
      "cell_type": "markdown",
      "source": [
        "### 4.Perform a two-tailed Z-test using Python and visualize the decision region on a plot."
      ],
      "metadata": {
        "id": "YIZHwIwYfK2j"
      }
    },
    {
      "cell_type": "code",
      "source": [
        "import matplotlib.pyplot as plt\n",
        "\n",
        "x = np.linspace(-4, 4, 1000)\n",
        "y = stats.norm.pdf(x)\n",
        "\n",
        "plt.figure()\n",
        "plt.plot(x, y, label='Standard Normal Curve')\n",
        "plt.fill_between(x, y, where=(x < -1.96) | (x > 1.96), color='red', alpha=0.3, label='Rejection Region')\n",
        "plt.axvline(x=z, color='black', linestyle='--', label=f'Z = {round(z, 2)}')\n",
        "plt.title(\"Q4. Two-tailed Z-test Visualization\")\n",
        "plt.xlabel(\"Z\")\n",
        "plt.ylabel(\"Density\")\n",
        "plt.legend()\n",
        "plt.grid(True)\n",
        "plt.show()\n"
      ],
      "metadata": {
        "id": "c91aSrfnfdM-"
      },
      "execution_count": null,
      "outputs": []
    },
    {
      "cell_type": "markdown",
      "source": [
        "### 5.Create a Python function that calculates and visualizes Type 1 and Type 2 errors during hypothesis testing."
      ],
      "metadata": {
        "id": "kxu7arOOfhyE"
      }
    },
    {
      "cell_type": "code",
      "source": [
        "def plot_type1_type2(mu0=100, mu1=105, sigma=10, n=30, alpha=0.05):\n",
        "    se = sigma / np.sqrt(n)\n",
        "    x = np.linspace(85, 120, 1000)\n",
        "    h0 = stats.norm.pdf(x, mu0, se)\n",
        "    h1 = stats.norm.pdf(x, mu1, se)\n",
        "\n",
        "    z_alpha = stats.norm.ppf(1 - alpha/2)\n",
        "    crit_low = mu0 - z_alpha * se\n",
        "    crit_high = mu0 + z_alpha * se\n",
        "\n",
        "    plt.figure()\n",
        "    plt.plot(x, h0, label=\"H0: μ=100\", color=\"blue\")\n",
        "    plt.plot(x, h1, label=\"H1: μ=105\", color=\"green\")\n",
        "    plt.axvline(crit_low, color=\"red\", linestyle=\"--\", label=\"Critical Region\")\n",
        "    plt.axvline(crit_high, color=\"red\", linestyle=\"--\")\n",
        "    plt.fill_between(x, h0, where=(x < crit_low) | (x > crit_high), color=\"blue\", alpha=0.2, label=\"Type I Error\")\n",
        "    plt.fill_between(x, h1, where=(x > crit_low) & (x < crit_high), color=\"green\", alpha=0.2, label=\"Type II Error\")\n",
        "    plt.title(\"Q5. Type I and Type II Errors\")\n",
        "    plt.legend()\n",
        "    plt.grid(True)\n",
        "    plt.show()\n",
        "\n",
        "plot_type1_type2()\n"
      ],
      "metadata": {
        "id": "zuIrFxxGfy1w"
      },
      "execution_count": null,
      "outputs": []
    },
    {
      "cell_type": "markdown",
      "source": [
        "### 6. Write a Python program to perform an independent T-test and interpret the results."
      ],
      "metadata": {
        "id": "cLixTdxuf54z"
      }
    },
    {
      "cell_type": "code",
      "source": [
        "group1 = np.random.normal(60, 10, 30)\n",
        "group2 = np.random.normal(65, 10, 30)\n",
        "\n",
        "t_stat, p_val = stats.ttest_ind(group1, group2)\n",
        "print(\"\\nQ6. Independent T-test:\")\n",
        "print(\"T-statistic:\", round(t_stat, 2))\n",
        "print(\"P-value:\", round(p_val, 4))\n"
      ],
      "metadata": {
        "id": "QYl8R_Alf89j"
      },
      "execution_count": null,
      "outputs": []
    },
    {
      "cell_type": "markdown",
      "source": [
        "### 7.Perform a paired sample T-test using Python and visualize the comparison results."
      ],
      "metadata": {
        "id": "n2Oa3-vVf_uy"
      }
    },
    {
      "cell_type": "code",
      "source": [
        "before = np.random.normal(100, 10, 30)\n",
        "after = before + np.random.normal(-2, 5, 30)\n",
        "\n",
        "# T-test\n",
        "t_stat, p_val = stats.ttest_rel(before, after)\n",
        "print(\"\\nQ7. Paired T-test:\")\n",
        "print(\"T-statistic:\", round(t_stat, 2))\n",
        "print(\"P-value:\", round(p_val, 4))\n",
        "\n",
        "# Visualization\n",
        "import seaborn as sns\n",
        "plt.figure()\n",
        "sns.histplot(before, label=\"Before\", kde=True, color='skyblue', stat='density')\n",
        "sns.histplot(after, label=\"After\", kde=True, color='salmon', stat='density')\n",
        "plt.title(\"Q7. Paired T-test Visualization\")\n",
        "plt.legend()\n",
        "plt.grid(True)\n",
        "plt.show()\n"
      ],
      "metadata": {
        "id": "zZzobUKVgGbs"
      },
      "execution_count": null,
      "outputs": []
    },
    {
      "cell_type": "markdown",
      "source": [
        "### 8.Simulate data and perform both Z-test and T-test, then compare the results using Python."
      ],
      "metadata": {
        "id": "Byy2Dx-XgOOl"
      }
    },
    {
      "cell_type": "code",
      "source": [
        "sample = np.random.normal(100, 15, 25)\n",
        "pop_mean = 105\n",
        "\n",
        "# Z-test\n",
        "z_stat = (np.mean(sample) - pop_mean) / (np.std(sample, ddof=1) / np.sqrt(len(sample)))\n",
        "p_z = 2 * (1 - stats.norm.cdf(abs(z_stat)))\n",
        "\n",
        "# T-test\n",
        "t_stat, p_t = stats.ttest_1samp(sample, pop_mean)\n",
        "\n",
        "print(\"\\nQ8. Z-test vs T-test:\")\n",
        "print(\"Z = \", round(z_stat, 2), \", p (Z) =\", round(p_z, 4))\n",
        "print(\"T = \", round(t_stat, 2), \", p (T) =\", round(p_t, 4))\n"
      ],
      "metadata": {
        "id": "_eWWCMEqgRjU"
      },
      "execution_count": null,
      "outputs": []
    },
    {
      "cell_type": "markdown",
      "source": [
        "### 9.Write a Python function to calculate the confidence interval for a sample mean and explain its significance."
      ],
      "metadata": {
        "id": "bPIGmuPbgUOT"
      }
    },
    {
      "cell_type": "code",
      "source": [
        "from scipy.stats import sem, t\n",
        "\n",
        "def confidence_interval(data, confidence=0.95):\n",
        "    mean = np.mean(data)\n",
        "    stderr = sem(data)\n",
        "    ci = t.interval(confidence, len(data)-1, loc=mean, scale=stderr)\n",
        "    return ci\n",
        "\n",
        "ci = confidence_interval(sample)\n",
        "print(\"\\nQ9. 95% Confidence Interval:\", ci)\n"
      ],
      "metadata": {
        "id": "10EjqPqpgYI0"
      },
      "execution_count": null,
      "outputs": []
    },
    {
      "cell_type": "markdown",
      "source": [
        "### 10.Write a Python program to calculate the margin of error for a given confidence level using sample data."
      ],
      "metadata": {
        "id": "JeQVNRKXgch1"
      }
    },
    {
      "cell_type": "code",
      "source": [
        "def margin_of_error(data, confidence=0.95):\n",
        "    stderr = sem(data)\n",
        "    moe = stderr * t.ppf((1 + confidence) / 2, len(data)-1)\n",
        "    return moe\n",
        "\n",
        "moe = margin_of_error(sample)\n",
        "print(\"Q10. Margin of Error (95%):\", round(moe, 2))\n"
      ],
      "metadata": {
        "id": "KJJ0dUuMgldd"
      },
      "execution_count": null,
      "outputs": []
    },
    {
      "cell_type": "markdown",
      "source": [
        "### 11. Implement a Bayesian inference method using Bayes' Theorem in Python and explain the process."
      ],
      "metadata": {
        "id": "7_08nZ_ognUn"
      }
    },
    {
      "cell_type": "code",
      "source": [
        "# P(Disease | Positive)\n",
        "p_disease = 0.01\n",
        "p_pos_given_disease = 0.99\n",
        "p_pos_given_no_disease = 0.05\n",
        "p_no_disease = 1 - p_disease\n",
        "\n",
        "p_pos = (p_pos_given_disease * p_disease) + (p_pos_given_no_disease * p_no_disease)\n",
        "posterior = (p_pos_given_disease * p_disease) / p_pos\n",
        "\n",
        "print(\"\\nQ11. Bayesian Inference:\")\n",
        "print(\"P(Disease | Positive):\", round(posterior, 4))\n"
      ],
      "metadata": {
        "colab": {
          "base_uri": "https://localhost:8080/"
        },
        "id": "2q0aCIaTgrIq",
        "outputId": "fb200f33-68e7-4890-9cea-51191a9bf021"
      },
      "execution_count": 15,
      "outputs": [
        {
          "output_type": "stream",
          "name": "stdout",
          "text": [
            "\n",
            "Q11. Bayesian Inference:\n",
            "P(Disease | Positive): 0.1667\n"
          ]
        }
      ]
    },
    {
      "cell_type": "markdown",
      "source": [
        "### 12.Perform a Chi-square test for independence between two categorical variables in Python."
      ],
      "metadata": {
        "id": "wEPYFzT_gyie"
      }
    },
    {
      "cell_type": "code",
      "source": [
        "import pandas as pd\n",
        "from scipy import stats\n",
        "\n",
        "# Sample categorical data\n",
        "data = {'Gender': ['M', 'M', 'F', 'F'],\n",
        "        'Response': ['Yes', 'No', 'Yes', 'No'],\n",
        "        'Count': [20, 30, 25, 25]}\n",
        "\n",
        "# Create DataFrame\n",
        "df = pd.DataFrame(data)\n",
        "\n",
        "# Repeat rows based on 'Count' to simulate raw categorical data\n",
        "expanded_df = df.loc[df.index.repeat(df['Count'])].drop(columns='Count')\n",
        "\n",
        "# Create contingency table using crosstab (no NaN issues)\n",
        "contingency = pd.crosstab(expanded_df['Gender'], expanded_df['Response'])\n",
        "\n",
        "# Chi-square test\n",
        "chi2, p, dof, expected = stats.chi2_contingency(contingency)\n",
        "\n",
        "# Output\n",
        "print(\"\\nQ12. Chi-square Test for Independence:\")\n",
        "print(\"Chi2:\", round(chi2, 2), \", p-value:\", round(p, 4))\n"
      ],
      "metadata": {
        "colab": {
          "base_uri": "https://localhost:8080/"
        },
        "id": "ksumKr-eiXco",
        "outputId": "fbc1eb16-1155-4b25-eb49-c45cb64fed5c"
      },
      "execution_count": 17,
      "outputs": [
        {
          "output_type": "stream",
          "name": "stdout",
          "text": [
            "\n",
            "Q12. Chi-square Test for Independence:\n",
            "Chi2: 0.65 , p-value: 0.4214\n"
          ]
        }
      ]
    },
    {
      "cell_type": "markdown",
      "source": [
        "### 13.Write a Python program to calculate the expected frequencies for a Chi-square test based on observed data."
      ],
      "metadata": {
        "id": "QHiPg5dVg_n-"
      }
    },
    {
      "cell_type": "code",
      "source": [
        "print(\"Q13. Expected Frequencies:\")\n",
        "print(pd.DataFrame(expected, index=contingency.index, columns=contingency.columns))\n"
      ],
      "metadata": {
        "colab": {
          "base_uri": "https://localhost:8080/"
        },
        "id": "0KgSxy2bigCJ",
        "outputId": "d5df729b-f416-42c6-8b7e-6d23cb5dbd20"
      },
      "execution_count": 18,
      "outputs": [
        {
          "output_type": "stream",
          "name": "stdout",
          "text": [
            "Q13. Expected Frequencies:\n",
            "Response    No   Yes\n",
            "Gender              \n",
            "F         27.5  22.5\n",
            "M         27.5  22.5\n"
          ]
        }
      ]
    },
    {
      "cell_type": "markdown",
      "source": [
        "### 14.Perform a goodness-of-fit test using Python to compare the observed data to an expected distribution."
      ],
      "metadata": {
        "id": "wzd_G2tkjex0"
      }
    },
    {
      "cell_type": "code",
      "source": [
        "observed = [18, 22, 30]\n",
        "expected = [20, 20, 30]\n",
        "chi2_stat, p_val = stats.chisquare(f_obs=observed, f_exp=expected)\n",
        "\n",
        "print(\"\\nQ14. Chi-square Goodness-of-Fit Test:\")\n",
        "print(\"Chi2:\", round(chi2_stat, 2), \", p-value:\", round(p_val, 4))\n"
      ],
      "metadata": {
        "colab": {
          "base_uri": "https://localhost:8080/"
        },
        "id": "ht5hJ6oajxdl",
        "outputId": "8184fdff-f2f9-4c11-e024-cfebfed1696f"
      },
      "execution_count": 19,
      "outputs": [
        {
          "output_type": "stream",
          "name": "stdout",
          "text": [
            "\n",
            "Q14. Chi-square Goodness-of-Fit Test:\n",
            "Chi2: 0.4 , p-value: 0.8187\n"
          ]
        }
      ]
    }
  ]
}